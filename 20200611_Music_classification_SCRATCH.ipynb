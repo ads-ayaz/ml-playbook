{
  "nbformat": 4,
  "nbformat_minor": 0,
  "metadata": {
    "colab": {
      "name": "20200611 - Music classification - SCRATCH.ipynb",
      "provenance": [],
      "collapsed_sections": [
        "0O43PMxT62RV"
      ],
      "toc_visible": true,
      "authorship_tag": "ABX9TyOt+QPPfuGla88xuYqHiqtK",
      "include_colab_link": true
    },
    "kernelspec": {
      "name": "python3",
      "display_name": "Python 3"
    }
  },
  "cells": [
    {
      "cell_type": "markdown",
      "metadata": {
        "id": "view-in-github",
        "colab_type": "text"
      },
      "source": [
        "<a href=\"https://colab.research.google.com/github/ads-ayaz/ml-playbook/blob/master/20200611_Music_classification_SCRATCH.ipynb\" target=\"_parent\"><img src=\"https://colab.research.google.com/assets/colab-badge.svg\" alt=\"Open In Colab\"/></a>"
      ]
    },
    {
      "cell_type": "markdown",
      "metadata": {
        "id": "9l_ezAy95344",
        "colab_type": "text"
      },
      "source": [
        "<h1><strong>Machine Learning Playbook</strong> | Aluance Digital</h1>"
      ]
    },
    {
      "cell_type": "markdown",
      "metadata": {
        "id": "X4SR6h0Y6I8_",
        "colab_type": "text"
      },
      "source": [
        "Machine learning projects have a lot of steps and stages to them. Executing a successful project can be made a whole lot easier when you have a framework that organizes the whole approach.\n",
        "\n",
        "That's why Aluance developed this \"playbook\" it simultaneously acts as a machine learning project template and a collection of best practices. The playbook is continually updated, and can be forked whenever a new project is initiated."
      ]
    },
    {
      "cell_type": "markdown",
      "metadata": {
        "id": "DwFkRgls7EbU",
        "colab_type": "text"
      },
      "source": [
        "# How to use this playbook"
      ]
    },
    {
      "cell_type": "markdown",
      "metadata": {
        "id": "_1Ibn9ph7_Fl",
        "colab_type": "text"
      },
      "source": [
        "# Problem statement"
      ]
    },
    {
      "cell_type": "markdown",
      "metadata": {
        "id": "Wou09bV48IYk",
        "colab_type": "text"
      },
      "source": [
        "# Libraries"
      ]
    },
    {
      "cell_type": "code",
      "metadata": {
        "id": "kzdZfAIv7QSv",
        "colab_type": "code",
        "colab": {
          "base_uri": "https://localhost:8080/",
          "height": 35
        },
        "outputId": "2921c211-5157-4976-eba8-da2c841ba9fe"
      },
      "source": [
        "import os\n",
        "\n",
        "import numpy as np\n",
        "import pandas as pd\n",
        "\n",
        "import keras\n",
        "\n",
        "from sklearn.model_selection import train_test_split\n",
        "from sklearn.utils import shuffle"
      ],
      "execution_count": 112,
      "outputs": [
        {
          "output_type": "stream",
          "text": [
            "Using TensorFlow backend.\n"
          ],
          "name": "stderr"
        }
      ]
    },
    {
      "cell_type": "markdown",
      "metadata": {
        "id": "oIAIjJg38N8s",
        "colab_type": "text"
      },
      "source": [
        "# Data preparation"
      ]
    },
    {
      "cell_type": "markdown",
      "metadata": {
        "id": "0O43PMxT62RV",
        "colab_type": "text"
      },
      "source": [
        "## Acquisition"
      ]
    },
    {
      "cell_type": "markdown",
      "metadata": {
        "id": "Mx8ojHS4qx_o",
        "colab_type": "text"
      },
      "source": [
        "After uploading the source data file, use the following commands to unzip the contents into the `data` folder.\n"
      ]
    },
    {
      "cell_type": "code",
      "metadata": {
        "id": "_9UFqed6qFo6",
        "colab_type": "code",
        "colab": {}
      },
      "source": [
        "# Uncomment the lines below to execute.\n",
        "#!unzip GTZAN.zip -d data"
      ],
      "execution_count": 0,
      "outputs": []
    },
    {
      "cell_type": "markdown",
      "metadata": {
        "id": "4kOd3oi7r9Ru",
        "colab_type": "text"
      },
      "source": [
        "## Unpacking the data"
      ]
    },
    {
      "cell_type": "markdown",
      "metadata": {
        "id": "gpWO_bV-sL1E",
        "colab_type": "text"
      },
      "source": [
        "The GTZAN data set includes a folder called `genres_original` that categorizes 30 second music samples in folders labeled by genre. Each sample is a `.wav` file, whose filename follows the format `<genre_label>.<num_id>.wav`. The collection comprises 10 genres folders each containing 100 audio files.\n",
        "\n",
        "The `images_original` folder contains a Mel Spectogram image in `.png` format for each music sample. Each spectogram provides a visual representation for one of the audio files. The files are organized into folders by genre and the file naming convention is `<genre_label><num_id>.png`, where the num_ids match those of the corresponding  music sample audio files.\n",
        "\n",
        "The data set also comes with two `.csv` files that list features for the music samples in either their full 30 second format (`features_30_sec.csv`) or in 3 second segments (`features_3_sec.csv`). Breaking the samples up effectively tripples the available data samples to 3,000."
      ]
    },
    {
      "cell_type": "markdown",
      "metadata": {
        "id": "u6qrmUrjxnTW",
        "colab_type": "text"
      },
      "source": [
        "Here are the fields that each of the `.csv` files contain:\n",
        "\n",
        "| Field | Format | Description | Notes |\n",
        "| --- | --- | --- | --- |\n",
        "| filename | string | Name of the music sample `.wav` file.|Segments in the `3_sec` file denoted<br/> as `<fname>.<segment>.wav`. |\n",
        "| length | int | Size of the file in bytes | [CHECK] |\n",
        "| chroma_stft_mean<br/>chroma_stft_var | float | The mean and variance of the _chroma_ of the audio sample. | See: [Wikipedia](https://en.wikipedia.org/wiki/Chroma_feature)|\n",
        "| rms_mean<br/>rms_var | float |||\n",
        "| spectral_centroid_mean<br/>spectral_centroid_var | float |||\n",
        "| spectral_bandwidth_mean<br/>spectral_bandwidth_var | float |||\n",
        "| rolloff_mean<br/>rolloff_var | float |||\n",
        "| zero_crossing_rate_mean<br/>zero_crossing_rate_var | float |||\n",
        "| harmony_mean<br/>harmony_var | float |||\n",
        "| perceptr_mean<br/>perceptr_var | float |||\n",
        "| tempo | float | The _tempo_ or speed of the beat in BPM. ||\n",
        "| mfcc00_var<br/>mfcc00_mean | float | Mean and variance of **mel-frequency cepstral coefficients**. | See: [Wikipedia](https://en.wikipedia.org/wiki/Mel-frequency_cepstrum) |\n",
        "| label | string | Musical genre of the sample. ||\n"
      ]
    },
    {
      "cell_type": "markdown",
      "metadata": {
        "id": "4dzbdKhO8Es3",
        "colab_type": "text"
      },
      "source": [
        "## Import"
      ]
    },
    {
      "cell_type": "code",
      "metadata": {
        "id": "QNsPSRIv8OgM",
        "colab_type": "code",
        "colab": {}
      },
      "source": [
        "FOLDER_pwd = os.getcwd()\n",
        "FOLDER_data_root = \"data/\"\n",
        "FOLDER_csv = FOLDER_data_root + \"Data/\"\n",
        "\n",
        "FILE_features30 = \"features_30_sec.csv\"\n",
        "FILE_features3 = \"features_3_sec.csv\""
      ],
      "execution_count": 0,
      "outputs": []
    },
    {
      "cell_type": "code",
      "metadata": {
        "id": "oxTUzxiD_wVF",
        "colab_type": "code",
        "colab": {}
      },
      "source": [
        "# Import using NumPy\n",
        "raw_data = np.genfromtxt(FOLDER_csv + FILE_features30, delimiter=',')\n",
        "raw_data = raw_data[1:, 2:]\n",
        "np.shape(raw_data)\n",
        "#raw_data[0]"
      ],
      "execution_count": 0,
      "outputs": []
    },
    {
      "cell_type": "code",
      "metadata": {
        "id": "VFi6x4SK_0FP",
        "colab_type": "code",
        "colab": {}
      },
      "source": [
        "# Import using Pandas\n",
        "df_raw = pd.read_csv(FOLDER_csv + FILE_features30)\n",
        "\n",
        "# Create X as matrix of [n_features, m_examples], dropping some cols\n",
        "df_X_raw = df_raw.drop(['filename', 'length', 'label'], axis=1)\n",
        "\n",
        "# Create Y as matrix of [1, m] labels\n",
        "df_Y_raw = pd.DataFrame(df_raw['label'])\n",
        "#Y_raw = np.reshape(np.array(df_raw['label']), (np.shape(X_raw)[0], 1))\n",
        "\n",
        "# Shuffle X, Y\n",
        "df_X, df_Y = shuffle(df_X_raw, df_Y_raw)"
      ],
      "execution_count": 0,
      "outputs": []
    },
    {
      "cell_type": "code",
      "metadata": {
        "id": "QZvoahnwTeqn",
        "colab_type": "code",
        "colab": {
          "base_uri": "https://localhost:8080/",
          "height": 35
        },
        "outputId": "59e3ba7e-3018-481f-bbc7-af3d9374d152"
      },
      "source": [
        "# Construct a dictionary from all the possible labels in Y\n",
        "dictLabels = dict(map(reversed, enumerate(list(set(df_Y_raw['label'])))))"
      ],
      "execution_count": 138,
      "outputs": [
        {
          "output_type": "execute_result",
          "data": {
            "text/plain": [
              "6"
            ]
          },
          "metadata": {
            "tags": []
          },
          "execution_count": 138
        }
      ]
    },
    {
      "cell_type": "code",
      "metadata": {
        "id": "ya_x59H8OzSu",
        "colab_type": "code",
        "colab": {}
      },
      "source": [
        "# Split the dataset into train, dev and test sets\n",
        "X_train, X_test, y_train, y_test = train_test_split(df_X, df_Y, test_size=0.4, shuffle=False)\n",
        "X_dev, X_test, y_dev, y_test = train_test_split(X_test, y_test, test_size=0.5, shuffle=False)\n",
        "\n",
        "# One-hot encode the y sets\n",
        "s = pd.Series(dictLabels)\n",
        "y_train = keras.utils.to_categorical(s[y_train['label']])\n",
        "y_dev = keras.utils.to_categorical(s[y_dev['label']])\n",
        "y_test = keras.utils.to_categorical(s[y_test['label']])"
      ],
      "execution_count": 0,
      "outputs": []
    },
    {
      "cell_type": "markdown",
      "metadata": {
        "id": "waHhlEkKCCYk",
        "colab_type": "text"
      },
      "source": [
        "[TODO]\n",
        "* Normalize inputs"
      ]
    },
    {
      "cell_type": "markdown",
      "metadata": {
        "id": "PV6oejPD8Sns",
        "colab_type": "text"
      },
      "source": [
        "# Model"
      ]
    },
    {
      "cell_type": "code",
      "metadata": {
        "id": "1ZXgBieiHl51",
        "colab_type": "code",
        "colab": {
          "base_uri": "https://localhost:8080/",
          "height": 35
        },
        "outputId": "ab760be5-c51d-4866-8afb-3541f7056ef3"
      },
      "source": [
        "# Get the shape of the data\n",
        "n, m = np.shape(X)\n",
        "n, m"
      ],
      "execution_count": 50,
      "outputs": [
        {
          "output_type": "execute_result",
          "data": {
            "text/plain": [
              "(57, 1000)"
            ]
          },
          "metadata": {
            "tags": []
          },
          "execution_count": 50
        }
      ]
    },
    {
      "cell_type": "markdown",
      "metadata": {
        "id": "7RfgoPUW8X1o",
        "colab_type": "text"
      },
      "source": [
        "# Training"
      ]
    },
    {
      "cell_type": "markdown",
      "metadata": {
        "id": "18EVkTto9AOD",
        "colab_type": "text"
      },
      "source": [
        "# Tuning"
      ]
    },
    {
      "cell_type": "markdown",
      "metadata": {
        "id": "zPRr_jLFDZFh",
        "colab_type": "text"
      },
      "source": [
        "[TODO]\n",
        "* Batch normalization"
      ]
    },
    {
      "cell_type": "markdown",
      "metadata": {
        "id": "9VLzJ83k8l0v",
        "colab_type": "text"
      },
      "source": [
        "#Testing"
      ]
    },
    {
      "cell_type": "markdown",
      "metadata": {
        "id": "vtOZ2QPf8x5e",
        "colab_type": "text"
      },
      "source": [
        "# Error Analysis"
      ]
    },
    {
      "cell_type": "markdown",
      "metadata": {
        "id": "RVMGfGw684dV",
        "colab_type": "text"
      },
      "source": [
        "# Insights"
      ]
    }
  ]
}