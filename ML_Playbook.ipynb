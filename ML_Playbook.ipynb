{
  "nbformat": 4,
  "nbformat_minor": 0,
  "metadata": {
    "colab": {
      "name": "ML Playbook.ipynb",
      "provenance": [],
      "collapsed_sections": [],
      "authorship_tag": "ABX9TyPWEpM+s+aW7Tw4VzpA5i+0",
      "include_colab_link": true
    },
    "kernelspec": {
      "name": "python3",
      "display_name": "Python 3"
    }
  },
  "cells": [
    {
      "cell_type": "markdown",
      "metadata": {
        "id": "view-in-github",
        "colab_type": "text"
      },
      "source": [
        "<a href=\"https://colab.research.google.com/github/ads-ayaz/ml-playbook/blob/master/ML_Playbook.ipynb\" target=\"_parent\"><img src=\"https://colab.research.google.com/assets/colab-badge.svg\" alt=\"Open In Colab\"/></a>"
      ]
    },
    {
      "cell_type": "markdown",
      "metadata": {
        "id": "9l_ezAy95344",
        "colab_type": "text"
      },
      "source": [
        "<h1><strong>Machine Learning Playbook</strong> | Aluance Digital</h1>"
      ]
    },
    {
      "cell_type": "markdown",
      "metadata": {
        "id": "X4SR6h0Y6I8_",
        "colab_type": "text"
      },
      "source": [
        "Machine learning projects have a lot of steps and stages to them. Executing a successful project can be made a whole lot easier when you have a framework that organizes the whole approach.\n",
        "\n",
        "That's why Aluance developed this \"playbook\" it simultaneously acts as a machine learning project template and a collection of best practices. The playbook is continually updated, and can be forked whenever a new project is initiated."
      ]
    },
    {
      "cell_type": "markdown",
      "metadata": {
        "id": "DwFkRgls7EbU",
        "colab_type": "text"
      },
      "source": [
        "# How to use this playbook"
      ]
    },
    {
      "cell_type": "markdown",
      "metadata": {
        "id": "_1Ibn9ph7_Fl",
        "colab_type": "text"
      },
      "source": [
        "# Problem statement"
      ]
    },
    {
      "cell_type": "markdown",
      "metadata": {
        "id": "Wou09bV48IYk",
        "colab_type": "text"
      },
      "source": [
        "# Libraries"
      ]
    },
    {
      "cell_type": "markdown",
      "metadata": {
        "id": "oIAIjJg38N8s",
        "colab_type": "text"
      },
      "source": [
        "# Data preparation"
      ]
    },
    {
      "cell_type": "markdown",
      "metadata": {
        "id": "PV6oejPD8Sns",
        "colab_type": "text"
      },
      "source": [
        "# Model"
      ]
    },
    {
      "cell_type": "markdown",
      "metadata": {
        "id": "7RfgoPUW8X1o",
        "colab_type": "text"
      },
      "source": [
        "# Training"
      ]
    },
    {
      "cell_type": "markdown",
      "metadata": {
        "id": "18EVkTto9AOD",
        "colab_type": "text"
      },
      "source": [
        "# Tuning"
      ]
    },
    {
      "cell_type": "markdown",
      "metadata": {
        "id": "9VLzJ83k8l0v",
        "colab_type": "text"
      },
      "source": [
        "#Testing"
      ]
    },
    {
      "cell_type": "markdown",
      "metadata": {
        "id": "vtOZ2QPf8x5e",
        "colab_type": "text"
      },
      "source": [
        "# Error Analysis"
      ]
    },
    {
      "cell_type": "markdown",
      "metadata": {
        "id": "RVMGfGw684dV",
        "colab_type": "text"
      },
      "source": [
        "# Insights"
      ]
    }
  ]
}